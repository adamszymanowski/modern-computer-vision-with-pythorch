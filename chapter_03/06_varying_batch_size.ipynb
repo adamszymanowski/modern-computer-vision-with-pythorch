{
 "cells": [
  {
   "cell_type": "markdown",
   "metadata": {},
   "source": [
    "# Understanding the impact of varying the batch size\n",
    "\n",
    "We will compare the following:\n",
    "- The loss and accuracy values of the training and validation data when the training batch size is 32\n",
    "- the loss and accuravy values of the training and validation data when the training batch size is 10000"
   ]
  },
  {
   "cell_type": "markdown",
   "metadata": {},
   "source": [
    "## Batch size of 32\n",
    "\n",
    "1. Download and import the training set:"
   ]
  },
  {
   "cell_type": "code",
   "execution_count": 7,
   "metadata": {},
   "outputs": [],
   "source": [
    "from torchvision import datasets\n",
    "import torch\n",
    "data_folder = \"./data/FMNIST\"\n",
    "training_fmnist = datasets.FashionMNIST(data_folder, download=True, train=True)\n",
    "\n",
    "training_images = training_fmnist.data\n",
    "training_labels = training_fmnist.targets"
   ]
  },
  {
   "cell_type": "markdown",
   "metadata": {},
   "source": [
    "2. In a similar manner to training images, we must download and import the validation dataset by specifying `train = False` while calling the `FashionMNIST` method in our datasets:"
   ]
  },
  {
   "cell_type": "code",
   "execution_count": 8,
   "metadata": {},
   "outputs": [],
   "source": [
    "validation_fmnist = datasets.FashionMNIST(data_folder, download=True, train=False)\n",
    "\n",
    "validation_images = validation_fmnist.data\n",
    "validation_labels = validation_fmnist.targets"
   ]
  },
  {
   "cell_type": "markdown",
   "metadata": {},
   "source": [
    "3. Import relevant packages and define `device`:"
   ]
  },
  {
   "cell_type": "code",
   "execution_count": 9,
   "metadata": {},
   "outputs": [
    {
     "name": "stdout",
     "output_type": "stream",
     "text": [
      "Device: cuda\n"
     ]
    }
   ],
   "source": [
    "import matplotlib.pyplot as plt\n",
    "%matplotlib inline\n",
    "import numpy as np\n",
    "from torch.utils.data import Dataset, DataLoader\n",
    "import torch\n",
    "import torch.nn as nn\n",
    "device = \"cuda\" if torch.cuda.is_available() else \"cpu\"\n",
    "print(f\"Device: {device}\")\n",
    "\n",
    "total_epochs = 5"
   ]
  },
  {
   "cell_type": "markdown",
   "metadata": {},
   "source": [
    "4. Define dataset class, and helper functions"
   ]
  },
  {
   "cell_type": "code",
   "execution_count": 10,
   "metadata": {},
   "outputs": [],
   "source": [
    "class FMNISTDataset(Dataset):\n",
    "    def __init__(self, x, y):\n",
    "        x = x.float()/255\n",
    "        x = x.view(-1, 28*28)\n",
    "        \n",
    "    def __getitem__(self, idx):\n",
    "        x, y = self.x[idx], self.y[idx]\n",
    "\n",
    "    def __len__(self):\n",
    "        return len(self.x)\n",
    "\n",
    "\n",
    "from torch.optim import SGD, Adam\n",
    "def get_model(use_SGD=True, lr=1e-2):\n",
    "    model = nn.Sequential(\n",
    "        nn.Linear(28 * 28, 1000),\n",
    "        nn.ReLu(),\n",
    "        nn.Linear(1000, 10)\n",
    "    ).to(device)\n",
    "\n",
    "    loss_func = nn.CrossEntropyLoss()\n",
    "    optimizer = SGD(model.parameters(), lr=lr) if use_SGD else Adam(model.parameters(), lr=lr)\n",
    "\n",
    "    return model, loss_func, optimizer\n",
    "\n",
    "\n",
    "def train_batch(x, y, model, loss_func, optimizer):\n",
    "    model.train()\n",
    "    prediction = model(x)\n",
    "    batch_loss = loss_func(prediction, y)\n",
    "    batch_loss.backward()\n",
    "    optimizer.step()\n",
    "    optimizer.zero_grad()\n",
    "    return batch_loss.item()\n",
    "\n",
    "def accuracy(x, y, model):\n",
    "    model.eval()\n",
    "    with torch.no_grad():\n",
    "        prediction = model(x)\n",
    "    max_values, argmaxes = prediction.max(-1)\n",
    "    is_correct = argmaxes == y\n",
    "    return is_correct.cpu().numpy().tolist()"
   ]
  },
  {
   "cell_type": "markdown",
   "metadata": {},
   "source": [
    "5. Define a function for getting data with `batch_size=` as a parameter:"
   ]
  },
  {
   "cell_type": "code",
   "execution_count": 11,
   "metadata": {},
   "outputs": [],
   "source": [
    "def get_data(batch_size):\n",
    "    training = FMNISTDataset(training_images, training_labels)\n",
    "    training_dataloader = DataLoader(training, batch_size=batch_size, shuffle=True)\n",
    "    validation = FMNISTDataset(validation_images, validation_labels)\n",
    "    validation_dataloader= DataLoader(validation,\n",
    "                                      batch_size=len(validation_images), shuffle=False)\n",
    "\n",
    "    return training_dataloader, validation_dataloader"
   ]
  },
  {
   "cell_type": "markdown",
   "metadata": {},
   "source": [
    "6. Define a function that calculates the loss of the validation data."
   ]
  },
  {
   "cell_type": "code",
   "execution_count": 12,
   "metadata": {},
   "outputs": [],
   "source": [
    "@torch.no_grad()\n",
    "def validation_loss(x, y, model, loss_func):\n",
    "    model.eval()\n",
    "    prediction = model(x)\n",
    "    loss = loss_func(prediction, y)\n",
    "    return loss.item()"
   ]
  },
  {
   "cell_type": "markdown",
   "metadata": {},
   "source": [
    "7. Fetch the training and validation DataLoaders and initialize model, loss function and optimizer"
   ]
  },
  {
   "cell_type": "code",
   "execution_count": null,
   "metadata": {},
   "outputs": [],
   "source": [
    "training_dataloader, validation_dataloader = get_data()\n",
    "model, loss_func, optimizer = get_model()"
   ]
  },
  {
   "cell_type": "markdown",
   "metadata": {},
   "source": [
    "8. Train the model"
   ]
  },
  {
   "cell_type": "code",
   "execution_count": null,
   "metadata": {},
   "outputs": [],
   "source": [
    "training_losses, training_accuracies = [], []\n",
    "validation_losses, validation_accuracies = [], []\n",
    "\n",
    "for epoch in range(total_epochs):\n",
    "    training_epoch_losses, training_epoch_accuracies = [], []\n",
    "    \n",
    "    for idx, batch, in enumerate(iter(training_dataloader)):\n",
    "        x, y = batch\n",
    "        batch_loss = train_batch(x, y, model, loss_func, optimizer)\n",
    "        training_epoch_losses.append(batch_loss)\n",
    "    training_epoch_loss = np.array(training_epoch_losses).mean()\n",
    "\n",
    "    for idx, batch in enumerate(iter(training_dataloader)):\n",
    "        x, y = batch\n",
    "        is_correct = accuracy(x, y, model)\n",
    "        training_epoch_accuracies.extend(is_correct)\n",
    "    training_epoch_accuracy = np.mean(training_epoch_accuracies) \n",
    "\n",
    "    for idx, batch in enumerate(iter(validation_dataloader)):\n",
    "        x, y = batch\n"
   ]
  }
 ],
 "metadata": {
  "kernelspec": {
   "display_name": "Python 3.10.4 64-bit",
   "language": "python",
   "name": "python3"
  },
  "language_info": {
   "codemirror_mode": {
    "name": "ipython",
    "version": 3
   },
   "file_extension": ".py",
   "mimetype": "text/x-python",
   "name": "python",
   "nbconvert_exporter": "python",
   "pygments_lexer": "ipython3",
   "version": "3.10.4"
  },
  "orig_nbformat": 4,
  "vscode": {
   "interpreter": {
    "hash": "b45196988e397c3f9973087e1b537003606a4f189ad9734f2bca00ff29e85777"
   }
  }
 },
 "nbformat": 4,
 "nbformat_minor": 2
}
