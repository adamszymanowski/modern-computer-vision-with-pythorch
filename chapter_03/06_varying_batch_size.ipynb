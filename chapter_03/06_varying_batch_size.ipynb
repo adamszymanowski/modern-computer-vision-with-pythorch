{
 "cells": [
  {
   "cell_type": "markdown",
   "metadata": {},
   "source": [
    "# Understanding the impact of varying the batch size\n",
    "\n",
    "We will compare the following:\n",
    "- The loss and accuracy values of the training and validation data when the training batch size is 32\n",
    "- the loss and accuravy values of the training and validation data when the training batch size is 10000"
   ]
  },
  {
   "cell_type": "markdown",
   "metadata": {},
   "source": [
    "## Batch size of 32\n",
    "\n",
    "1. Download and import the training set:"
   ]
  },
  {
   "cell_type": "code",
   "execution_count": 22,
   "metadata": {},
   "outputs": [],
   "source": [
    "from torchvision import datasets\n",
    "import torch\n",
    "data_folder = \"./data/FMNIST\"\n",
    "training_fmnist = datasets.FashionMNIST(data_folder, download=True, train=True)\n",
    "\n",
    "training_images = training_fmnist.data\n",
    "training_labels = training_fmnist.targets"
   ]
  },
  {
   "cell_type": "markdown",
   "metadata": {},
   "source": [
    "2. In a similar manner to training images, we must download and import the validation dataset by specifying `train = False` while calling the `FashionMNIST` method in our datasets:"
   ]
  },
  {
   "cell_type": "code",
   "execution_count": 23,
   "metadata": {},
   "outputs": [],
   "source": [
    "validation_fmnist = datasets.FashionMNIST(data_folder, download=True, train=False)\n",
    "\n",
    "validation_images = validation_fmnist.data\n",
    "validation_labels = validation_fmnist.targets"
   ]
  },
  {
   "cell_type": "markdown",
   "metadata": {},
   "source": [
    "3. Import relevant packages and define `device`:"
   ]
  },
  {
   "cell_type": "code",
   "execution_count": 24,
   "metadata": {},
   "outputs": [
    {
     "name": "stdout",
     "output_type": "stream",
     "text": [
      "Device: cuda\n"
     ]
    }
   ],
   "source": [
    "import matplotlib.pyplot as plt\n",
    "%matplotlib inline\n",
    "import numpy as np\n",
    "from torch.utils.data import Dataset, DataLoader\n",
    "import torch\n",
    "import torch.nn as nn\n",
    "device = \"cuda\" if torch.cuda.is_available() else \"cpu\"\n",
    "print(f\"Device: {device}\")"
   ]
  },
  {
   "cell_type": "markdown",
   "metadata": {},
   "source": [
    "4. Define dataset class, and helper functions"
   ]
  },
  {
   "cell_type": "code",
   "execution_count": 25,
   "metadata": {},
   "outputs": [],
   "source": [
    "class FMNISTDataset(Dataset):\n",
    "    def __init__(self, x, y):\n",
    "        x = x.float()/255\n",
    "        x = x.view(-1, 28*28)\n",
    "        self.x, self.y = x, y\n",
    "        \n",
    "    def __getitem__(self, idx):\n",
    "        x, y = self.x[idx], self.y[idx]\n",
    "\n",
    "    def __len__(self):\n",
    "        return len(self.x)\n",
    "\n",
    "\n",
    "from torch.optim import SGD, Adam\n",
    "def get_model(use_SGD=True, lr=1e-2):\n",
    "    model = nn.Sequential(\n",
    "        nn.Linear(28 * 28, 1000),\n",
    "        nn.ReLU(),\n",
    "        nn.Linear(1000, 10)\n",
    "    ).to(device)\n",
    "\n",
    "    loss_func = nn.CrossEntropyLoss()\n",
    "    optimizer = SGD(model.parameters(), lr=lr) if use_SGD else Adam(model.parameters(), lr=lr)\n",
    "\n",
    "    return model, loss_func, optimizer\n",
    "\n",
    "\n",
    "def train_batch(x, y, model, loss_func, optimizer):\n",
    "    model.train()\n",
    "    prediction = model(x)\n",
    "    batch_loss = loss_func(prediction, y)\n",
    "    batch_loss.backward()\n",
    "    optimizer.step()\n",
    "    optimizer.zero_grad()\n",
    "    return batch_loss.item()\n",
    "\n",
    "def accuracy(x, y, model):\n",
    "    model.eval()\n",
    "    with torch.no_grad():\n",
    "        prediction = model(x)\n",
    "    max_values, argmaxes = prediction.max(-1)\n",
    "    is_correct = argmaxes == y\n",
    "    return is_correct.cpu().numpy().tolist()"
   ]
  },
  {
   "cell_type": "markdown",
   "metadata": {},
   "source": [
    "5. Define a function for getting data with `batch_size=` as a parameter:"
   ]
  },
  {
   "cell_type": "code",
   "execution_count": 26,
   "metadata": {},
   "outputs": [],
   "source": [
    "def get_data(batch_size):\n",
    "    training = FMNISTDataset(training_images, training_labels)\n",
    "    training_dataloader = DataLoader(training, batch_size=batch_size, shuffle=True)\n",
    "    validation = FMNISTDataset(validation_images, validation_labels)\n",
    "    validation_dataloader= DataLoader(validation,\n",
    "                                      batch_size=len(validation_images), shuffle=False)\n",
    "\n",
    "    return training_dataloader, validation_dataloader"
   ]
  },
  {
   "cell_type": "markdown",
   "metadata": {},
   "source": [
    "6. Define a function that calculates the loss of the validation data."
   ]
  },
  {
   "cell_type": "code",
   "execution_count": 27,
   "metadata": {},
   "outputs": [],
   "source": [
    "@torch.no_grad()\n",
    "def validation_loss_func(x, y, model, loss_func):\n",
    "    model.eval()\n",
    "    prediction = model(x)\n",
    "    loss = loss_func(prediction, y)\n",
    "    return loss.item()"
   ]
  },
  {
   "cell_type": "markdown",
   "metadata": {},
   "source": [
    "7. Fetch the training and validation DataLoaders and initialize model, loss function and optimizer"
   ]
  },
  {
   "cell_type": "code",
   "execution_count": 16,
   "metadata": {},
   "outputs": [],
   "source": [
    "# NOTE: I moved this down for convenience, there would be too much repeated code and it would be had to compare results\n"
   ]
  },
  {
   "cell_type": "markdown",
   "metadata": {},
   "source": [
    "8. Train the model"
   ]
  },
  {
   "cell_type": "code",
   "execution_count": 30,
   "metadata": {},
   "outputs": [],
   "source": [
    "def train_model(total_epochs):\n",
    "    training_dataloader, validation_dataloader = get_data(total_epochs)\n",
    "    model, loss_func, optimizer = get_model()\n",
    "\n",
    "    print(\"train. dataloader\", training_dataloader)\n",
    "    training_losses, training_accuracies = [], []\n",
    "    validation_losses, validation_accuracies = [], []\n",
    "\n",
    "    for epoch in range(total_epochs):\n",
    "        training_epoch_losses, training_epoch_accuracies = [], []\n",
    "        \n",
    "        for idx, batch, in enumerate(iter(training_dataloader)):\n",
    "            x, y = batch\n",
    "            batch_loss = train_batch(x, y, model, loss_func, optimizer)\n",
    "            training_epoch_losses.append(batch_loss)\n",
    "        training_epoch_loss = np.array(training_epoch_losses).mean()\n",
    "\n",
    "        for idx, batch in enumerate(iter(training_dataloader)):\n",
    "            x, y = batch\n",
    "            is_correct = accuracy(x, y, model)\n",
    "            training_epoch_accuracies.extend(is_correct)\n",
    "        training_epoch_accuracy = np.mean(training_epoch_accuracies) \n",
    "\n",
    "        for idx, batch in enumerate(iter(validation_dataloader)):\n",
    "            x, y = batch\n",
    "            validation_is_correct = accuracy(x, y, model)\n",
    "            validation_loss = validation_loss_func(x, y, model)\n",
    "        validation_epoch_accuracy = np.mean(validation_is_correct)\n",
    "\n",
    "        training_losses.append(training_epoch_loss)\n",
    "        training_accuracies.append(training_epoch_accuracy)\n",
    "        validation_losses.append(validation_loss)\n",
    "        validation_accuracies.append(validation_epoch_accuracy)\n",
    "\n",
    "    return training_losses, training_accuracies, validation_losses, validation_accuracies\n"
   ]
  },
  {
   "cell_type": "code",
   "execution_count": 31,
   "metadata": {},
   "outputs": [
    {
     "name": "stdout",
     "output_type": "stream",
     "text": [
      "train. dataloader <torch.utils.data.dataloader.DataLoader object at 0x00000257497532B0>\n"
     ]
    },
    {
     "ename": "TypeError",
     "evalue": "default_collate: batch must contain tensors, numpy arrays, numbers, dicts or lists; found <class 'NoneType'>",
     "output_type": "error",
     "traceback": [
      "\u001b[1;31m---------------------------------------------------------------------------\u001b[0m",
      "\u001b[1;31mTypeError\u001b[0m                                 Traceback (most recent call last)",
      "\u001b[1;32mc:\\code\\modern-computer-vision-with-pytorch\\chapter_03\\06_varying_batch_size.ipynb Komórka 18\u001b[0m in \u001b[0;36m<cell line: 5>\u001b[1;34m()\u001b[0m\n\u001b[0;32m      <a href='vscode-notebook-cell:/c%3A/code/modern-computer-vision-with-pytorch/chapter_03/06_varying_batch_size.ipynb#X23sZmlsZQ%3D%3D?line=1'>2</a>\u001b[0m b32 \u001b[39m=\u001b[39m \u001b[39m32\u001b[39m\n\u001b[0;32m      <a href='vscode-notebook-cell:/c%3A/code/modern-computer-vision-with-pytorch/chapter_03/06_varying_batch_size.ipynb#X23sZmlsZQ%3D%3D?line=2'>3</a>\u001b[0m b10k \u001b[39m=\u001b[39m \u001b[39m10000\u001b[39m\n\u001b[1;32m----> <a href='vscode-notebook-cell:/c%3A/code/modern-computer-vision-with-pytorch/chapter_03/06_varying_batch_size.ipynb#X23sZmlsZQ%3D%3D?line=4'>5</a>\u001b[0m b32_training_losses, b32_training_accuracies, b32_validation_losses, b32_validation_accuracies \u001b[39m=\u001b[39m train_model(b32)\n\u001b[0;32m      <a href='vscode-notebook-cell:/c%3A/code/modern-computer-vision-with-pytorch/chapter_03/06_varying_batch_size.ipynb#X23sZmlsZQ%3D%3D?line=5'>6</a>\u001b[0m b1k_training_losses, b1k_training_accuracies, b1k_validation_losses, b1k_validation_accuracies \u001b[39m=\u001b[39m train_model(b10k)\n",
      "\u001b[1;32mc:\\code\\modern-computer-vision-with-pytorch\\chapter_03\\06_varying_batch_size.ipynb Komórka 18\u001b[0m in \u001b[0;36mtrain_model\u001b[1;34m(total_epochs)\u001b[0m\n\u001b[0;32m      <a href='vscode-notebook-cell:/c%3A/code/modern-computer-vision-with-pytorch/chapter_03/06_varying_batch_size.ipynb#X23sZmlsZQ%3D%3D?line=8'>9</a>\u001b[0m \u001b[39mfor\u001b[39;00m epoch \u001b[39min\u001b[39;00m \u001b[39mrange\u001b[39m(total_epochs):\n\u001b[0;32m     <a href='vscode-notebook-cell:/c%3A/code/modern-computer-vision-with-pytorch/chapter_03/06_varying_batch_size.ipynb#X23sZmlsZQ%3D%3D?line=9'>10</a>\u001b[0m     training_epoch_losses, training_epoch_accuracies \u001b[39m=\u001b[39m [], []\n\u001b[1;32m---> <a href='vscode-notebook-cell:/c%3A/code/modern-computer-vision-with-pytorch/chapter_03/06_varying_batch_size.ipynb#X23sZmlsZQ%3D%3D?line=11'>12</a>\u001b[0m     \u001b[39mfor\u001b[39;00m idx, batch, \u001b[39min\u001b[39;00m \u001b[39menumerate\u001b[39m(\u001b[39miter\u001b[39m(training_dataloader)):\n\u001b[0;32m     <a href='vscode-notebook-cell:/c%3A/code/modern-computer-vision-with-pytorch/chapter_03/06_varying_batch_size.ipynb#X23sZmlsZQ%3D%3D?line=12'>13</a>\u001b[0m         x, y \u001b[39m=\u001b[39m batch\n\u001b[0;32m     <a href='vscode-notebook-cell:/c%3A/code/modern-computer-vision-with-pytorch/chapter_03/06_varying_batch_size.ipynb#X23sZmlsZQ%3D%3D?line=13'>14</a>\u001b[0m         batch_loss \u001b[39m=\u001b[39m train_batch(x, y, model, loss_func, optimizer)\n",
      "File \u001b[1;32mc:\\Users\\szymanowskia\\AppData\\Local\\Programs\\Python\\Python310\\lib\\site-packages\\torch\\utils\\data\\dataloader.py:652\u001b[0m, in \u001b[0;36m_BaseDataLoaderIter.__next__\u001b[1;34m(self)\u001b[0m\n\u001b[0;32m    649\u001b[0m \u001b[39mif\u001b[39;00m \u001b[39mself\u001b[39m\u001b[39m.\u001b[39m_sampler_iter \u001b[39mis\u001b[39;00m \u001b[39mNone\u001b[39;00m:\n\u001b[0;32m    650\u001b[0m     \u001b[39m# TODO(https://github.com/pytorch/pytorch/issues/76750)\u001b[39;00m\n\u001b[0;32m    651\u001b[0m     \u001b[39mself\u001b[39m\u001b[39m.\u001b[39m_reset()  \u001b[39m# type: ignore[call-arg]\u001b[39;00m\n\u001b[1;32m--> 652\u001b[0m data \u001b[39m=\u001b[39m \u001b[39mself\u001b[39;49m\u001b[39m.\u001b[39;49m_next_data()\n\u001b[0;32m    653\u001b[0m \u001b[39mself\u001b[39m\u001b[39m.\u001b[39m_num_yielded \u001b[39m+\u001b[39m\u001b[39m=\u001b[39m \u001b[39m1\u001b[39m\n\u001b[0;32m    654\u001b[0m \u001b[39mif\u001b[39;00m \u001b[39mself\u001b[39m\u001b[39m.\u001b[39m_dataset_kind \u001b[39m==\u001b[39m _DatasetKind\u001b[39m.\u001b[39mIterable \u001b[39mand\u001b[39;00m \\\n\u001b[0;32m    655\u001b[0m         \u001b[39mself\u001b[39m\u001b[39m.\u001b[39m_IterableDataset_len_called \u001b[39mis\u001b[39;00m \u001b[39mnot\u001b[39;00m \u001b[39mNone\u001b[39;00m \u001b[39mand\u001b[39;00m \\\n\u001b[0;32m    656\u001b[0m         \u001b[39mself\u001b[39m\u001b[39m.\u001b[39m_num_yielded \u001b[39m>\u001b[39m \u001b[39mself\u001b[39m\u001b[39m.\u001b[39m_IterableDataset_len_called:\n",
      "File \u001b[1;32mc:\\Users\\szymanowskia\\AppData\\Local\\Programs\\Python\\Python310\\lib\\site-packages\\torch\\utils\\data\\dataloader.py:692\u001b[0m, in \u001b[0;36m_SingleProcessDataLoaderIter._next_data\u001b[1;34m(self)\u001b[0m\n\u001b[0;32m    690\u001b[0m \u001b[39mdef\u001b[39;00m \u001b[39m_next_data\u001b[39m(\u001b[39mself\u001b[39m):\n\u001b[0;32m    691\u001b[0m     index \u001b[39m=\u001b[39m \u001b[39mself\u001b[39m\u001b[39m.\u001b[39m_next_index()  \u001b[39m# may raise StopIteration\u001b[39;00m\n\u001b[1;32m--> 692\u001b[0m     data \u001b[39m=\u001b[39m \u001b[39mself\u001b[39;49m\u001b[39m.\u001b[39;49m_dataset_fetcher\u001b[39m.\u001b[39;49mfetch(index)  \u001b[39m# may raise StopIteration\u001b[39;00m\n\u001b[0;32m    693\u001b[0m     \u001b[39mif\u001b[39;00m \u001b[39mself\u001b[39m\u001b[39m.\u001b[39m_pin_memory:\n\u001b[0;32m    694\u001b[0m         data \u001b[39m=\u001b[39m _utils\u001b[39m.\u001b[39mpin_memory\u001b[39m.\u001b[39mpin_memory(data, \u001b[39mself\u001b[39m\u001b[39m.\u001b[39m_pin_memory_device)\n",
      "File \u001b[1;32mc:\\Users\\szymanowskia\\AppData\\Local\\Programs\\Python\\Python310\\lib\\site-packages\\torch\\utils\\data\\_utils\\fetch.py:52\u001b[0m, in \u001b[0;36m_MapDatasetFetcher.fetch\u001b[1;34m(self, possibly_batched_index)\u001b[0m\n\u001b[0;32m     50\u001b[0m \u001b[39melse\u001b[39;00m:\n\u001b[0;32m     51\u001b[0m     data \u001b[39m=\u001b[39m \u001b[39mself\u001b[39m\u001b[39m.\u001b[39mdataset[possibly_batched_index]\n\u001b[1;32m---> 52\u001b[0m \u001b[39mreturn\u001b[39;00m \u001b[39mself\u001b[39;49m\u001b[39m.\u001b[39;49mcollate_fn(data)\n",
      "File \u001b[1;32mc:\\Users\\szymanowskia\\AppData\\Local\\Programs\\Python\\Python310\\lib\\site-packages\\torch\\utils\\data\\_utils\\collate.py:183\u001b[0m, in \u001b[0;36mdefault_collate\u001b[1;34m(batch)\u001b[0m\n\u001b[0;32m    179\u001b[0m         \u001b[39mexcept\u001b[39;00m \u001b[39mTypeError\u001b[39;00m:\n\u001b[0;32m    180\u001b[0m             \u001b[39m# The sequence type may not support `__init__(iterable)` (e.g., `range`).\u001b[39;00m\n\u001b[0;32m    181\u001b[0m             \u001b[39mreturn\u001b[39;00m [default_collate(samples) \u001b[39mfor\u001b[39;00m samples \u001b[39min\u001b[39;00m transposed]\n\u001b[1;32m--> 183\u001b[0m \u001b[39mraise\u001b[39;00m \u001b[39mTypeError\u001b[39;00m(default_collate_err_msg_format\u001b[39m.\u001b[39mformat(elem_type))\n",
      "\u001b[1;31mTypeError\u001b[0m: default_collate: batch must contain tensors, numpy arrays, numbers, dicts or lists; found <class 'NoneType'>"
     ]
    }
   ],
   "source": [
    "# batch sizes\n",
    "b32 = 32\n",
    "b10k = 10000\n",
    "\n",
    "b32_training_losses, b32_training_accuracies, b32_validation_losses, b32_validation_accuracies = train_model(b32)\n",
    "b1k_training_losses, b1k_training_accuracies, b1k_validation_losses, b1k_validation_accuracies = train_model(b10k)"
   ]
  }
 ],
 "metadata": {
  "kernelspec": {
   "display_name": "Python 3.10.4 64-bit",
   "language": "python",
   "name": "python3"
  },
  "language_info": {
   "codemirror_mode": {
    "name": "ipython",
    "version": 3
   },
   "file_extension": ".py",
   "mimetype": "text/x-python",
   "name": "python",
   "nbconvert_exporter": "python",
   "pygments_lexer": "ipython3",
   "version": "3.10.4"
  },
  "orig_nbformat": 4,
  "vscode": {
   "interpreter": {
    "hash": "b45196988e397c3f9973087e1b537003606a4f189ad9734f2bca00ff29e85777"
   }
  }
 },
 "nbformat": 4,
 "nbformat_minor": 2
}
