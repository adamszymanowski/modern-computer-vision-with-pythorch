{
 "cells": [
  {
   "cell_type": "markdown",
   "metadata": {},
   "source": [
    "# Training a Neural Network\n",
    "To train a neural network, we must perform following steps:\n",
    "1. Import the relevant packages.\n",
    "2. Build up a dataset that can fetch data one data point at a time.\n",
    "3. Wrap the DataLoader from the dataset.\n",
    "4. Build a model and then define a loss function and an optimizer.\n",
    "5. Define two functions to train and validate data respectively.\n",
    "6. Define a function that will calculate the accuracy of the data.\n",
    "7. Perform weight updates based on each batch of data over increasing epochs.\n",
    "\n",
    "Let's perform each step:"
   ]
  },
  {
   "cell_type": "markdown",
   "metadata": {},
   "source": [
    "1. Import the relevant packages and the FMNIST dataset:"
   ]
  },
  {
   "cell_type": "code",
   "execution_count": 13,
   "metadata": {},
   "outputs": [
    {
     "name": "stdout",
     "output_type": "stream",
     "text": [
      "Device: cuda\n"
     ]
    }
   ],
   "source": [
    "from torch.utils.data import Dataset, DataLoader\n",
    "import torch\n",
    "import torch.nn as nn\n",
    "import numpy as np\n",
    "import matplotlib\n",
    "import matplotlib.pyplot as plt\n",
    "%matplotlib inline\n",
    "from torchvision import datasets\n",
    "\n",
    "device = \"cuda\" if torch.cuda.is_available() else \"cpu\"\n",
    "print(f\"Device: {device}\")\n",
    "\n",
    "data_folder = \"./data/FMNIST\"\n",
    "fmnist = datasets.FashionMNIST(data_folder, download=True, train=True)\n",
    "\n",
    "train_images = fmnist.data\n",
    "train_labels = fmnist.targets"
   ]
  },
  {
   "cell_type": "markdown",
   "metadata": {},
   "source": [
    "2. Build a class that fetches a dataset. Remember that it is derived from `Dataset` class and needs three methods `__init__`, `__getitem__`, and `__len__` to **always** be defined:"
   ]
  },
  {
   "cell_type": "code",
   "execution_count": 4,
   "metadata": {},
   "outputs": [],
   "source": [
    "class FMNISTDataset(Dataset):\n",
    "    def __init__(self, x, y):\n",
    "        x = x.float()\n",
    "        x = x.view(-1, 28*28)\n",
    "        self.x, self.y = x, y\n",
    "    \n",
    "    def __getitem__(self, idx):\n",
    "        x, y = self.x[idx], self.y[idx]\n",
    "        return x.to(device), y.to(device)\n",
    "    \n",
    "    def __len__(self):\n",
    "        return len(self.x)"
   ]
  },
  {
   "cell_type": "markdown",
   "metadata": {},
   "source": [
    "Note that int the `__init__` method, we have converted the input into *foating-point* number and have also flattened each image into 28*28=784 numeric values (where each numeric value corresponds to a pixel value). "
   ]
  },
  {
   "cell_type": "markdown",
   "metadata": {},
   "source": [
    "3. Create a function that generates a training DataLoader `train_dataloader` from the dataset `FMNISTDataset`, this will sample 32 data points at random for the batch size:"
   ]
  },
  {
   "cell_type": "code",
   "execution_count": 5,
   "metadata": {},
   "outputs": [],
   "source": [
    "def get_data():\n",
    "    train_dataset = FMNISTDataset(train_images, train_labels)\n",
    "    train_dataloader = DataLoader(train_dataset, batch_size=32, shuffle=True)\n",
    "    return train_dataloader"
   ]
  },
  {
   "cell_type": "markdown",
   "metadata": {},
   "source": [
    "4. Define a model, as well as the loss function and the optimizer:"
   ]
  },
  {
   "cell_type": "code",
   "execution_count": 6,
   "metadata": {},
   "outputs": [],
   "source": [
    "from torch.optim import SGD\n",
    "def get_model():\n",
    "    model = nn.Sequential(\n",
    "        nn.Linear(28 * 28, 1000),\n",
    "        nn.ReLU(),\n",
    "        nn.Linear(1000, 10)\n",
    "    ).to(device)\n",
    "    loss_func = nn.CrossEntropyLoss()\n",
    "    optimizer = SGD(model.parameters(), lr=1e-2)\n",
    "    return model, loss_func, optimizer"
   ]
  },
  {
   "cell_type": "markdown",
   "metadata": {},
   "source": [
    "The model is a network with one hidden layer containing 1000 neurons. The output is a 10-neuron layer since there are 10 possible classes. Furthermore, we are calling `CrossEntropyLoss` function since the output can belong to any of the 10 classes for each image.\n",
    "\n",
    "**NOTE**\n",
    "We are not using *softmax* in the neural network at all.\n",
    "The range of outputs is unconstrained in that values can have an infinite range, whereas cross-entropy loss typically expects outputs as probabilites (each row should sum to 1).\n",
    "\n",
    "This still works in this setting because `nn.CrossEntropyLoss` actually expects us to send the raw *logits* (that is, unconstrained values). It performs *softmax* internally."
   ]
  },
  {
   "cell_type": "markdown",
   "metadata": {},
   "source": [
    "5. Define a function that will train the dataset on a batch of images:"
   ]
  },
  {
   "cell_type": "code",
   "execution_count": 7,
   "metadata": {},
   "outputs": [],
   "source": [
    "def train_batch(x, y, model, optimizer, loss_func):\n",
    "    model.train()\n",
    "    prediction = model(x)\n",
    "    batch_loss = loss_func(prediction, y)\n",
    "    \n",
    "    # based on forward pass in model(x) compute all the gradients of model.parameters()\n",
    "    batch_loss.backward()\n",
    "    # apply new_weights = optimizer(old_weights, old_weights_gradients)\n",
    "    optimizer.step()\n",
    "    # Flush gradients memory for next batch of calculations\n",
    "    optimizer.zero_grad()\n",
    "    return batch_loss.item()"
   ]
  },
  {
   "cell_type": "markdown",
   "metadata": {},
   "source": [
    "The preceeding code passses batch of images through the model in *forward pass*. \n",
    "Then computes loss on batch and the passes the weights through *backward propagation* and *updates* them.\n",
    "Finnaly, it flushes the memory of the gradient so that it doesn't influence how the gradient is calculated in the next pass.\n",
    "\n",
    "Now that we've done this, we extract the loss value as a scalar by fetching `batch_loss.item()`"
   ]
  },
  {
   "cell_type": "markdown",
   "metadata": {},
   "source": [
    "6. Build a function that calculates the accuracy of a given dataset:"
   ]
  },
  {
   "cell_type": "code",
   "execution_count": 8,
   "metadata": {},
   "outputs": [],
   "source": [
    "# There's no need to update weights when calculating accuracy\n",
    "# so there's no need to calculate gradients\n",
    "# decorating function (like below) will do that\n",
    "@torch.no_grad()\n",
    "def accuracy(x, y, model):\n",
    "    model.eval()\n",
    "    prediction = model(x)\n",
    "    max_values, argmaxes = prediction.max(-1)\n",
    "    is_correct = argmaxes == y\n",
    "    return is_correct.cpu().numpy().tolist()"
   ]
  },
  {
   "cell_type": "markdown",
   "metadata": {},
   "source": [
    "In the preceeding code we use `@torch.no_grad()` to explicitly tell that we won't compute gradients,\n",
    "and then we calculate `prediction` by feed-forwarding input through model.\n",
    "\n",
    "Next, we invoke `prediction.max(-1)` to identify the argmax index corresponding to each row.\n",
    "\n",
    "Next, we are comparing our `argmaxes` with ground truth using `argmaxes == y` so that we can check whether each row is predicted correctly."
   ]
  },
  {
   "cell_type": "markdown",
   "metadata": {},
   "source": [
    "7. Train neural network:"
   ]
  },
  {
   "cell_type": "code",
   "execution_count": 9,
   "metadata": {},
   "outputs": [
    {
     "name": "stdout",
     "output_type": "stream",
     "text": [
      "epoch 0\n",
      "epoch 1\n",
      "epoch 2\n",
      "epoch 3\n",
      "epoch 4\n"
     ]
    }
   ],
   "source": [
    "total_epochs = 5\n",
    "\n",
    "train_dataloader = get_data()\n",
    "model, loss_func, optimizer = get_model()\n",
    "losses, accuracies = [], []\n",
    "\n",
    "for epoch in range(total_epochs):\n",
    "    print(f\"epoch {epoch}\")\n",
    "    epoch_losses, epoch_accuracies = [], []\n",
    "    \n",
    "    for idx, batch in enumerate(iter(train_dataloader)):\n",
    "        x, y = batch\n",
    "        batch_loss = train_batch(x, y, model, optimizer, loss_func)\n",
    "        epoch_losses.append(batch_loss)\n",
    "    \n",
    "    epoch_loss = np.array(epoch_losses).mean()\n",
    "    \n",
    "    for idx, batch in enumerate(iter(train_dataloader)):\n",
    "        x, y = batch\n",
    "        is_correct = accuracy(x, y, model)\n",
    "        epoch_accuracies.extend(is_correct)\n",
    "    \n",
    "    epoch_accuracy = np.mean(epoch_accuracies)\n",
    "    \n",
    "    losses.append(epoch_loss)\n",
    "    accuracies.append(epoch_accuracy)\n",
    "       "
   ]
  },
  {
   "cell_type": "code",
   "execution_count": 23,
   "metadata": {},
   "outputs": [
    {
     "name": "stderr",
     "output_type": "stream",
     "text": [
      "C:\\Users\\Adam\\AppData\\Local\\Temp\\ipykernel_17572\\3222874133.py:13: UserWarning: FixedFormatter should only be used together with FixedLocator\n",
      "  plt.gca().set_yticklabels(['{:.0f}%'.format(x*100) for x in plt.gca().get_yticks()])\n"
     ]
    },
    {
     "data": {
      "text/plain": [
       "<matplotlib.legend.Legend at 0x1c805c1e860>"
      ]
     },
     "execution_count": 23,
     "metadata": {},
     "output_type": "execute_result"
    },
    {
     "data": {
      "image/png": "[encoded data removed]",
      "text/plain": [
       "<Figure size 1440x360 with 2 Axes>"
      ]
     },
     "metadata": {
      "needs_background": "light"
     },
     "output_type": "display_data"
    }
   ],
   "source": [
    "# Display variation of training loss and accuracy over increasing epochs\n",
    "plt.style.use(['science', 'notebook', 'grid'])\n",
    "epochs = np.arange(total_epochs)+1\n",
    "plt.figure(figsize=(20,5))\n",
    "plt.subplot(121)\n",
    "plt.title(\"Loss function over increasing epochs\")\n",
    "plt.plot(epochs, losses, \"ro--\", label=\"Training Loss\")\n",
    "plt.gca().xaxis.set_major_locator(matplotlib.ticker.MultipleLocator(1))\n",
    "plt.legend()\n",
    "plt.subplot(122)\n",
    "plt.title(\"Accuracy value over increasing epochs\")\n",
    "plt.plot(epochs, accuracies, \"ro--\", label=\"Training accuracy\")\n",
    "plt.gca().set_yticklabels(['{:.0f}%'.format(x*100) for x in plt.gca().get_yticks()])\n",
    "plt.gca().xaxis.set_major_locator(matplotlib.ticker.MultipleLocator(1))\n",
    "plt.legend()"
   ]
  }
 ],
 "metadata": {
  "kernelspec": {
   "display_name": "Python 3.10.5 64-bit",
   "language": "python",
   "name": "python3"
  },
  "language_info": {
   "codemirror_mode": {
    "name": "ipython",
    "version": 3
   },
   "file_extension": ".py",
   "mimetype": "text/x-python",
   "name": "python",
   "nbconvert_exporter": "python",
   "pygments_lexer": "ipython3",
   "version": "3.10.5"
  },
  "orig_nbformat": 4,
  "vscode": {
   "interpreter": {
    "hash": "971cac2d3a85aca30ddd2f84efc770d4552bac85453983cef0b0351cb5d9b584"
   }
  }
 },
 "nbformat": 4,
 "nbformat_minor": 2
}
