{
 "cells": [
  {
   "cell_type": "markdown",
   "metadata": {},
   "source": [
    "# Building a neural network using PyTorch\n",
    "Components of a neural network are as follows:\n",
    "- The number of hidden layers\n",
    "- The number of units in a hidden layer\n",
    "- Activation functions performed at various layers\n",
    "- The loss function that we try to optimize for\n",
    "- The learning rate associated with neural network\n",
    "- The batch size of data leveraged to build the neural network\n",
    "- The number of epochs of forward and bck-propagation"
   ]
  },
  {
   "cell_type": "markdown",
   "metadata": {},
   "source": [
    "In this chapter, to gain intuition of performing various operations, we will build a neural network on a toy dataset.\n",
    "Starting the next chapter, we will deal with solving more realistic problems and datasets.\n",
    "\n",
    "The toy problem we'll solve to understand the implementation of neural networks using PyTorch is a plain addition of two numbers, where we initialize the dataset as follows:"
   ]
  },
  {
   "cell_type": "markdown",
   "metadata": {},
   "source": [
    "1. Define the input(`x`) and output (`y`) values:"
   ]
  },
  {
   "cell_type": "code",
   "execution_count": 3,
   "metadata": {},
   "outputs": [
    {
     "name": "stdout",
     "output_type": "stream",
     "text": [
      "[[1, 2], [3, 4], [5, 6], [7, 8]] \n",
      " [[3], [7], [11], [15]]\n"
     ]
    }
   ],
   "source": [
    "import torch\n",
    "x = [[1,2],[3,4],[5,6],[7,8]]\n",
    "y = [[3],[7],[11],[15]]\n",
    "print(x, \"\\n\", y)"
   ]
  },
  {
   "cell_type": "markdown",
   "metadata": {},
   "source": [
    "2. Convert the input lists into tensor objects:"
   ]
  },
  {
   "cell_type": "code",
   "execution_count": 4,
   "metadata": {},
   "outputs": [],
   "source": [
    "X = torch.tensor(x).float()\n",
    "Y = torch.tensor(y).float()"
   ]
  },
  {
   "cell_type": "markdown",
   "metadata": {},
   "source": [
    "Note that in the preceeding code, we have converted the tensor objects into floating-point objects. It is a good practice to have tensor objects as floats or long ints, as they will be multiplied by decimal values (wieghts) anyway.\n",
    "\n",
    "Furthermore, we register the input (`X`) and output (`Y`) data points to the device = `cuda` if you have a GPU and `cpu` if you don't have a GPU: "
   ]
  },
  {
   "cell_type": "code",
   "execution_count": 5,
   "metadata": {},
   "outputs": [
    {
     "name": "stdout",
     "output_type": "stream",
     "text": [
      "device: cuda\n"
     ]
    }
   ],
   "source": [
    "device = 'cuda' if torch.cuda.is_available() else 'cpu'\n",
    "print(\"device:\", device)\n",
    "X = X.to(device)\n",
    "Y = Y.to(device)"
   ]
  },
  {
   "cell_type": "markdown",
   "metadata": {},
   "source": [
    "3. Define the neural network architecture:"
   ]
  },
  {
   "cell_type": "code",
   "execution_count": 7,
   "metadata": {},
   "outputs": [],
   "source": [
    "import torch.nn as nn\n",
    "\n",
    "class MyNeuralNet(nn.Module):\n",
    "    def __init__(self):\n",
    "        super().__init__()\n",
    "        self.input_to_hidden_layer = nn.Linear(2,8)\n",
    "        self.hidden_layer_activation = nn.ReLU()\n",
    "        self.hidden_to_output_layer = nn.Linear(8,1)\n",
    "\n",
    "    def forward(self, x):\n",
    "        x = self.input_to_hidden_layer(x)\n",
    "        x = self.hidden_layer_activation(x)\n",
    "        x = self.hidden_to_output_layer(x)\n",
    "        return x"
   ]
  },
  {
   "cell_type": "markdown",
   "metadata": {},
   "source": [
    "It is mandatory to use `forward` as the function name since PyTorch has reserved this function as the method for performing forward propagation.\n",
    "Using any other name in its place will raise an error."
   ]
  },
  {
   "cell_type": "markdown",
   "metadata": {},
   "source": [
    "4. You can access the initial weights of each of the componets by performing the following:\n",
    "- create an instance of the `MyNeuralNet` class object that we defined earlier and register it to `device`\n",
    "- obtain parameters of this instance"
   ]
  },
  {
   "cell_type": "code",
   "execution_count": 8,
   "metadata": {},
   "outputs": [
    {
     "name": "stdout",
     "output_type": "stream",
     "text": [
      "Parameter containing:\n",
      "tensor([[-0.5657, -0.3582],\n",
      "        [-0.4178, -0.3197],\n",
      "        [-0.1744,  0.3804],\n",
      "        [-0.2740, -0.0774],\n",
      "        [ 0.5312, -0.6967],\n",
      "        [-0.2675,  0.1387],\n",
      "        [-0.0440, -0.1085],\n",
      "        [ 0.2864, -0.5789]], device='cuda:0', requires_grad=True)\n",
      "Parameter containing:\n",
      "tensor([-0.4114,  0.5008,  0.0491,  0.6496,  0.6609, -0.4559, -0.1322, -0.5788],\n",
      "       device='cuda:0', requires_grad=True)\n",
      "Parameter containing:\n",
      "tensor([[-0.1330,  0.1685,  0.2984,  0.2386,  0.2932, -0.2678,  0.2854,  0.1477]],\n",
      "       device='cuda:0', requires_grad=True)\n",
      "Parameter containing:\n",
      "tensor([0.2732], device='cuda:0', requires_grad=True)\n"
     ]
    }
   ],
   "source": [
    "mynet = MyNeuralNet().to(device)\n",
    "\n",
    "for par in mynet.parameters():\n",
    "    print(par)"
   ]
  },
  {
   "cell_type": "markdown",
   "metadata": {},
   "source": [
    "5. Define the loss function that we optimize for. Given that we are predicting for a continuous output, we'll optimize for mean squared error:\n",
    "- The loss value of a neural network can be calculated by passing the input values through the `neuralnet` object and then calculating `MSELoss` for the given inputs:\n",
    "\n",
    "**NOTE** `_Y` are predicted values, `Y` are actual (ground truth) values."
   ]
  },
  {
   "cell_type": "code",
   "execution_count": 9,
   "metadata": {},
   "outputs": [
    {
     "name": "stdout",
     "output_type": "stream",
     "text": [
      "tensor(88.4919, device='cuda:0', grad_fn=<MseLossBackward0>)\n"
     ]
    }
   ],
   "source": [
    "loss_func = nn.MSELoss()\n",
    "\n",
    "_Y = mynet(X)\n",
    "loss_value = loss_func(_Y, Y)\n",
    "print(loss_value)"
   ]
  },
  {
   "cell_type": "markdown",
   "metadata": {},
   "source": [
    "Now that we have defined the loss function, we will define the optimizer that tries to reduce the loss value. The input to the optimizer will be the parameters (weights and biases) corresponding to the neural network and the learning rate when updating the weights.\n",
    "\n",
    "For this instance, we will consider the stochastic gradient descent (more on differnet opimizers and the impact of the learning rate in the next chapter)."
   ]
  },
  {
   "cell_type": "markdown",
   "metadata": {},
   "source": [
    "6. Import the `SGD` method from the `torch.optim` module and the pass the neural network object (`mynet`) and learning rate `lr` as parameters to the `SGD` model."
   ]
  },
  {
   "cell_type": "code",
   "execution_count": 10,
   "metadata": {},
   "outputs": [],
   "source": [
    "from torch.optim import SGD\n",
    "opt = SGD(mynet.parameters(), lr = 0.001)"
   ]
  },
  {
   "cell_type": "markdown",
   "metadata": {},
   "source": [
    "7. Perform all the steps to be done in an epoch together:\n",
    "- Calculate the loss value corresponding to the given input and output\n",
    "- Calculate the gradient corresponding to each parameter\n",
    "- Update the weights based on the learning rate and gradient of each parameter.\n",
    "- Once the weights are updated, ensure that the gradients that have been calculated in the previous step are flushed before calculating the gradients in the next epoch:\n",
    "- Repeat the preceding steps as many times as the number of epochs using a `for` loop. In the following example, we are performing the weight update process for a total of 50 epochs. Furthermore, we are storing the loss value in each epoch in the list - `loss_history`"
   ]
  },
  {
   "cell_type": "code",
   "execution_count": 27,
   "metadata": {},
   "outputs": [
    {
     "name": "stdout",
     "output_type": "stream",
     "text": [
      "[array(0.11862709, dtype=float32), array(0.11832739, dtype=float32), array(0.11802847, dtype=float32), array(0.11773096, dtype=float32), array(0.11743359, dtype=float32), array(0.11713701, dtype=float32), array(0.1168415, dtype=float32), array(0.11654658, dtype=float32), array(0.11625231, dtype=float32), array(0.11595883, dtype=float32), array(0.11566621, dtype=float32), array(0.1153743, dtype=float32), array(0.11508317, dtype=float32), array(0.11479273, dtype=float32), array(0.114503, dtype=float32), array(0.11421388, dtype=float32), array(0.11392586, dtype=float32), array(0.11363834, dtype=float32), array(0.1133517, dtype=float32), array(0.11306582, dtype=float32), array(0.11278042, dtype=float32), array(0.11249611, dtype=float32), array(0.1122121, dtype=float32), array(0.1119291, dtype=float32), array(0.11164664, dtype=float32), array(0.11136505, dtype=float32), array(0.1110841, dtype=float32), array(0.11080416, dtype=float32), array(0.11052456, dtype=float32), array(0.11024594, dtype=float32), array(0.10996763, dtype=float32), array(0.1096905, dtype=float32), array(0.10941368, dtype=float32), array(0.10913797, dtype=float32), array(0.10886291, dtype=float32), array(0.10858829, dtype=float32), array(0.10831438, dtype=float32), array(0.10804136, dtype=float32), array(0.10776885, dtype=float32), array(0.10749743, dtype=float32), array(0.10722628, dtype=float32), array(0.10695607, dtype=float32), array(0.10668635, dtype=float32), array(0.1064174, dtype=float32), array(0.10614906, dtype=float32), array(0.10588149, dtype=float32), array(0.10561459, dtype=float32), array(0.10534833, dtype=float32), array(0.10508291, dtype=float32), array(0.10481801, dtype=float32)]\n"
     ]
    }
   ],
   "source": [
    "loss_history = []\n",
    "for _ in range(50):\n",
    "    opt.zero_grad() # flush the previous epoch's gradients\n",
    "    loss_value = loss_func(mynet(X), Y) # compute loss\n",
    "    loss_value.backward() # perform back-propagation\n",
    "    opt.step() # update the weights according to the gradients computed\n",
    "    loss_history.append(loss_value.cpu().detach().numpy())\n",
    "    #loss_history.append(loss_value)\n",
    "    \n",
    "\n",
    "print(loss_history)"
   ]
  },
  {
   "cell_type": "markdown",
   "metadata": {},
   "source": [
    "- Let's plot the variation in loss over increasing epochs (as we saw in the previous chapter, we update the weights in such a way that the overall loss value decreases with increasing epochs):"
   ]
  },
  {
   "cell_type": "code",
   "execution_count": 28,
   "metadata": {},
   "outputs": [
    {
     "data": {
      "text/plain": [
       "Text(0, 0.5, 'loss value')"
      ]
     },
     "execution_count": 28,
     "metadata": {},
     "output_type": "execute_result"
    },
    {
     "data": {
      "image/png": "[encoded data removed]",
      "text/plain": [
       "<Figure size 432x288 with 1 Axes>"
      ]
     },
     "metadata": {
      "needs_background": "light"
     },
     "output_type": "display_data"
    }
   ],
   "source": [
    "import matplotlib.pyplot as plt\n",
    "%matplotlib inline\n",
    "plt.plot(loss_history)\n",
    "plt.title('Loss variation over increasing epochs')\n",
    "plt.xlabel('epochs')\n",
    "plt.ylabel('loss value')"
   ]
  }
 ],
 "metadata": {
  "kernelspec": {
   "display_name": "Python 3.10.4 64-bit",
   "language": "python",
   "name": "python3"
  },
  "language_info": {
   "codemirror_mode": {
    "name": "ipython",
    "version": 3
   },
   "file_extension": ".py",
   "mimetype": "text/x-python",
   "name": "python",
   "nbconvert_exporter": "python",
   "pygments_lexer": "ipython3",
   "version": "3.10.4"
  },
  "orig_nbformat": 4,
  "vscode": {
   "interpreter": {
    "hash": "b45196988e397c3f9973087e1b537003606a4f189ad9734f2bca00ff29e85777"
   }
  }
 },
 "nbformat": 4,
 "nbformat_minor": 2
}
