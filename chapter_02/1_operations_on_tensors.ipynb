{
 "cells": [
  {
   "cell_type": "markdown",
   "metadata": {},
   "source": [
    "# Operations on tensors"
   ]
  },
  {
   "cell_type": "code",
   "execution_count": 2,
   "metadata": {},
   "outputs": [],
   "source": [
    "import torch"
   ]
  },
  {
   "cell_type": "markdown",
   "metadata": {},
   "source": [
    "Mutlipication of all elements present in `x` by `10`:"
   ]
  },
  {
   "cell_type": "code",
   "execution_count": 3,
   "metadata": {},
   "outputs": [
    {
     "name": "stdout",
     "output_type": "stream",
     "text": [
      "tensor([[10, 20, 30, 40],\n",
      "        [50, 60, 70, 80]])\n"
     ]
    }
   ],
   "source": [
    "x = torch.tensor([[1,2,3,4], [5,6,7,8]])\n",
    "print(x * 10)"
   ]
  },
  {
   "cell_type": "markdown",
   "metadata": {},
   "source": [
    "Adding `10` to the elements in `x`:"
   ]
  },
  {
   "cell_type": "code",
   "execution_count": 4,
   "metadata": {},
   "outputs": [
    {
     "name": "stdout",
     "output_type": "stream",
     "text": [
      "tensor([[11, 12, 13, 14],\n",
      "        [15, 16, 17, 18]])\n",
      "tensor([[11, 12, 13, 14],\n",
      "        [15, 16, 17, 18]])\n"
     ]
    }
   ],
   "source": [
    "x = torch.tensor([[1,2,3,4], [5,6,7,8]])\n",
    "y = x.add(10)\n",
    "print(y)\n",
    "z = x + 10\n",
    "print(z)"
   ]
  },
  {
   "cell_type": "markdown",
   "metadata": {},
   "source": [
    "Reshaping a tensor:"
   ]
  },
  {
   "cell_type": "code",
   "execution_count": 5,
   "metadata": {},
   "outputs": [
    {
     "name": "stdout",
     "output_type": "stream",
     "text": [
      "tensor([2, 3, 1, 0]) torch.Size([4])\n",
      "tensor([[2],\n",
      "        [3],\n",
      "        [1],\n",
      "        [0]]) torch.Size([4, 1])\n"
     ]
    }
   ],
   "source": [
    "y = torch.tensor([2,3,1,0])\n",
    "print(y, y.shape)\n",
    "y = y.view(4,1)\n",
    "print(y, y.shape)"
   ]
  },
  {
   "cell_type": "markdown",
   "metadata": {},
   "source": [
    "Another way to reshape is by using `squeeze` method, where we provide the axis index that we want to remove, this is only applicable when the axis we want to remove has only one item in that dimension."
   ]
  },
  {
   "cell_type": "code",
   "execution_count": 7,
   "metadata": {},
   "outputs": [
    {
     "name": "stdout",
     "output_type": "stream",
     "text": [
      "tensor([[[-0.6210,  0.4516, -0.5400, -0.5010]],\n",
      "\n",
      "        [[-0.4470,  2.0191, -0.1397, -0.4768]],\n",
      "\n",
      "        [[ 0.0896,  0.2328, -1.2045,  0.2512]],\n",
      "\n",
      "        [[-0.0093, -0.2077,  0.1938,  0.9376]]])\n",
      "tensor([[-0.6210,  0.4516, -0.5400, -0.5010],\n",
      "        [-0.4470,  2.0191, -0.1397, -0.4768],\n",
      "        [ 0.0896,  0.2328, -1.2045,  0.2512],\n",
      "        [-0.0093, -0.2077,  0.1938,  0.9376]])\n",
      "tensor([[-0.6210,  0.4516, -0.5400, -0.5010],\n",
      "        [-0.4470,  2.0191, -0.1397, -0.4768],\n",
      "        [ 0.0896,  0.2328, -1.2045,  0.2512],\n",
      "        [-0.0093, -0.2077,  0.1938,  0.9376]])\n"
     ]
    }
   ],
   "source": [
    "x = torch.randn(4, 1, 4)\n",
    "z1 = torch.squeeze(x, 1)\n",
    "# the same can be performed directly on x by calling squeeze method\n",
    "z2 = x.squeeze(1)\n",
    "\n",
    "print(x)\n",
    "print(z1)\n",
    "print(z2)"
   ]
  },
  {
   "cell_type": "markdown",
   "metadata": {},
   "source": [
    "Matrix multiplication of two different tensors:"
   ]
  },
  {
   "cell_type": "code",
   "execution_count": 9,
   "metadata": {},
   "outputs": [
    {
     "name": "stdout",
     "output_type": "stream",
     "text": [
      "tensor([[11],\n",
      "        [35]])\n"
     ]
    }
   ],
   "source": [
    "x = torch.tensor([[1,2,3,4], [5,6,7,8]])\n",
    "y = torch.tensor([[2], [3], [1], [0]])\n",
    "print(torch.matmul(x, y))"
   ]
  },
  {
   "cell_type": "markdown",
   "metadata": {},
   "source": [
    "Alternatively, matrix multiplication can also be performed by using the `@` operator:"
   ]
  },
  {
   "cell_type": "code",
   "execution_count": 10,
   "metadata": {},
   "outputs": [
    {
     "name": "stdout",
     "output_type": "stream",
     "text": [
      "tensor([[11],\n",
      "        [35]])\n"
     ]
    }
   ],
   "source": [
    "print(x @ y)"
   ]
  },
  {
   "cell_type": "markdown",
   "metadata": {},
   "source": [
    "Similar to `concatenate` in NumPy, we can perform concatanation of tensors using the `cat` method:"
   ]
  },
  {
   "cell_type": "code",
   "execution_count": 26,
   "metadata": {},
   "outputs": [
    {
     "name": "stdout",
     "output_type": "stream",
     "text": [
      "tensor([[[1, 2],\n",
      "         [3, 4]],\n",
      "\n",
      "        [[5, 6],\n",
      "         [7, 8]]]) torch.Size([2, 2, 2])\n",
      "\n",
      "cat axis=0\n",
      " tensor([[[1, 2],\n",
      "         [3, 4]],\n",
      "\n",
      "        [[5, 6],\n",
      "         [7, 8]],\n",
      "\n",
      "        [[1, 2],\n",
      "         [3, 4]],\n",
      "\n",
      "        [[5, 6],\n",
      "         [7, 8]]]) torch.Size([4, 2, 2])\n",
      "\n",
      "cat axis=1\n",
      " tensor([[[1, 2],\n",
      "         [3, 4],\n",
      "         [1, 2],\n",
      "         [3, 4]],\n",
      "\n",
      "        [[5, 6],\n",
      "         [7, 8],\n",
      "         [5, 6],\n",
      "         [7, 8]]]) torch.Size([2, 4, 2])\n"
     ]
    }
   ],
   "source": [
    "x = torch.tensor([\n",
    "    [[1,2],[3,4]], \n",
    "    [[5,6],[7,8]]\n",
    "])\n",
    "print(x, x.shape)\n",
    "z = torch.cat([x,x], axis=0)\n",
    "print(\"\\ncat axis=0\\n\", z, z.shape)\n",
    "z = torch.cat([x,x], axis=1)\n",
    "print(\"\\ncat axis=1\\n\", z, z.shape)"
   ]
  },
  {
   "cell_type": "markdown",
   "metadata": {},
   "source": [
    "Extraction of the maximum value:"
   ]
  },
  {
   "cell_type": "code",
   "execution_count": 28,
   "metadata": {},
   "outputs": [
    {
     "name": "stdout",
     "output_type": "stream",
     "text": [
      "Max: tensor(24)\n"
     ]
    }
   ],
   "source": [
    "x = torch.arange(25).reshape(5,5)\n",
    "print('Max:', x.max())"
   ]
  },
  {
   "cell_type": "markdown",
   "metadata": {},
   "source": [
    "We can exctract the maximum value along with the row index where the maximum is present:"
   ]
  },
  {
   "cell_type": "code",
   "execution_count": 37,
   "metadata": {},
   "outputs": [
    {
     "name": "stdout",
     "output_type": "stream",
     "text": [
      "tensor([[ 0,  1,  2,  3,  4],\n",
      "        [ 5,  6,  7,  8,  9],\n",
      "        [10, 11, 12, 13, 14],\n",
      "        [15, 16, 17, 18, 19],\n",
      "        [20, 21, 22, 23, 24]])\n",
      "torch.return_types.max(\n",
      "values=tensor([20, 21, 22, 23, 24]),\n",
      "indices=tensor([4, 4, 4, 4, 4]))\n",
      "\n",
      "max in axis 1:\n",
      " tensor([ 4,  9, 14, 19, 24]) tensor([4, 4, 4, 4, 4])\n"
     ]
    }
   ],
   "source": [
    "print(x)\n",
    "print(x.max(dim=0))\n",
    "\n",
    "m, argm = x.max(dim=1)\n",
    "print(\"\\nmax in axis 1:\\n\", m, argm)"
   ]
  },
  {
   "cell_type": "markdown",
   "metadata": {},
   "source": [
    "Permute the dimensions:"
   ]
  },
  {
   "cell_type": "code",
   "execution_count": 40,
   "metadata": {},
   "outputs": [
    {
     "name": "stdout",
     "output_type": "stream",
     "text": [
      "tensor([[[1, 2, 3],\n",
      "         [4, 5, 6]]]) torch.Size([1, 2, 3])\n",
      "tensor([[[1, 4]],\n",
      "\n",
      "        [[2, 5]],\n",
      "\n",
      "        [[3, 6]]]) torch.Size([3, 1, 2])\n"
     ]
    }
   ],
   "source": [
    "x = torch.tensor([[[1,2,3],[4,5,6]]])\n",
    "print(x, x.shape)\n",
    "z = x.permute(2, 0, 1)\n",
    "print(z, z.shape)"
   ]
  },
  {
   "cell_type": "markdown",
   "metadata": {},
   "source": [
    "**PRO TIP**\n",
    "\n",
    "Never reshape (that is use `tensor.view` on) a tensor to swap the dimensions.\n",
    "Even though Torch will not throw an an error, this is *wrong* and create unforseen results during training. \n",
    "If you need to swap dimensions, *always* use permute."
   ]
  },
  {
   "cell_type": "markdown",
   "metadata": {},
   "source": [
    "There are much more operations.\n",
    "\n",
    "You can always run `dir(torch.Tensors)` to see all the methods possible for a Torch tensor and `help(torch.Tensor.<method>)` to go through official help and documentation for that method."
   ]
  }
 ],
 "metadata": {
  "kernelspec": {
   "display_name": "Python 3.10.4 64-bit",
   "language": "python",
   "name": "python3"
  },
  "language_info": {
   "codemirror_mode": {
    "name": "ipython",
    "version": 3
   },
   "file_extension": ".py",
   "mimetype": "text/x-python",
   "name": "python",
   "nbconvert_exporter": "python",
   "pygments_lexer": "ipython3",
   "version": "3.10.4"
  },
  "orig_nbformat": 4,
  "vscode": {
   "interpreter": {
    "hash": "b45196988e397c3f9973087e1b537003606a4f189ad9734f2bca00ff29e85777"
   }
  }
 },
 "nbformat": 4,
 "nbformat_minor": 2
}
