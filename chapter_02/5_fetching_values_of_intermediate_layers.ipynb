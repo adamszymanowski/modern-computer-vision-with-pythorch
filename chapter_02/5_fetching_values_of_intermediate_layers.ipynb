{
 "cells": [
  {
   "cell_type": "markdown",
   "metadata": {},
   "source": [
    "# Fetching the values of intermediate layers"
   ]
  },
  {
   "cell_type": "markdown",
   "metadata": {},
   "source": [
    "Let's recreate environment from previous example."
   ]
  },
  {
   "cell_type": "code",
   "execution_count": 1,
   "metadata": {},
   "outputs": [
    {
     "name": "stdout",
     "output_type": "stream",
     "text": [
      "device: cuda\n"
     ]
    }
   ],
   "source": [
    "import torch\n",
    "import torch.nn as nn\n",
    "\n",
    "x = [[1,2],[3,4],[5,6],[7,8]]\n",
    "X = torch.tensor(x).float()\n",
    "device = 'cuda' if torch.cuda.is_available() else 'cpu'\n",
    "print(\"device:\", device)\n",
    "X = X.to(device)"
   ]
  },
  {
   "cell_type": "markdown",
   "metadata": {},
   "source": [
    "PyTorch provides the fuctionality to fetch the intermediate values of the neural network in two ways:\n",
    "1. One way is by directly calling layers as if they are functions:"
   ]
  },
  {
   "cell_type": "code",
   "execution_count": 2,
   "metadata": {},
   "outputs": [
    {
     "name": "stdout",
     "output_type": "stream",
     "text": [
      "tensor([[0.0000, 0.0000, 0.0000, 0.1653, 0.3287, 0.0000, 0.0000, 1.0586],\n",
      "        [0.0000, 0.0000, 0.0000, 0.2440, 0.9577, 0.0000, 0.0000, 2.0324],\n",
      "        [0.0000, 0.0000, 0.0000, 0.3227, 1.5867, 0.0000, 0.0000, 3.0061],\n",
      "        [0.0000, 0.0000, 0.0000, 0.4014, 2.2157, 0.0000, 0.0000, 3.9799]],\n",
      "       device='cuda:0', grad_fn=<ReluBackward0>)\n"
     ]
    }
   ],
   "source": [
    "# Setup\n",
    "class MyNeuralNet1(nn.Module):\n",
    "    def __init__(self):\n",
    "        super().__init__()\n",
    "        self.input_to_hidden_layer = nn.Linear(2,8)\n",
    "        self.hidden_layer_activation = nn.ReLU()\n",
    "        self.hidden_to_output_layer = nn.Linear(8,1)\n",
    "\n",
    "    def forward(self, x):\n",
    "        x = self.input_to_hidden_layer(x)\n",
    "        x = self.hidden_layer_activation(x)\n",
    "        x = self.hidden_to_output_layer(x)\n",
    "        return x\n",
    "\n",
    "mynet_1 = MyNeuralNet1().to(device)\n",
    "\n",
    "# Calling layers directly as if they are functions\n",
    "input_to_hidden = mynet_1.input_to_hidden_layer(X)\n",
    "hidden_activation = mynet_1.hidden_layer_activation(input_to_hidden)\n",
    "print(hidden_activation)"
   ]
  },
  {
   "cell_type": "markdown",
   "metadata": {},
   "source": [
    "Note that we had to call the `input_to_hidden_layer` activation prior to calling `hidden_layer_activation` as the output of `input_to_hidden_layer` is the input to the `hidden_layer_activation` layer."
   ]
  },
  {
   "cell_type": "markdown",
   "metadata": {},
   "source": [
    "2. The other way is by specifying the layers that we want to look at in the `forward` method:"
   ]
  },
  {
   "cell_type": "code",
   "execution_count": 3,
   "metadata": {},
   "outputs": [
    {
     "name": "stdout",
     "output_type": "stream",
     "text": [
      "tensor([[0.0000, 0.0000, 0.0000, 0.0000, 1.7978, 0.0000, 0.2853, 0.0000],\n",
      "        [0.0000, 0.0000, 0.0000, 0.0000, 3.1215, 0.0000, 1.0852, 0.0000],\n",
      "        [0.0000, 0.0000, 0.0000, 0.0000, 4.4453, 0.0000, 1.8851, 0.0000],\n",
      "        [0.0000, 0.0000, 0.0000, 0.0000, 5.7690, 0.0000, 2.6851, 0.0000]],\n",
      "       device='cuda:0', grad_fn=<ReluBackward0>)\n"
     ]
    }
   ],
   "source": [
    "# Setup\n",
    "class MyNeuralNet2(nn.Module):\n",
    "    def __init__(self):\n",
    "        super().__init__()\n",
    "        self.input_to_hidden_layer = nn.Linear(2,8)\n",
    "        self.hidden_layer_activation = nn.ReLU()\n",
    "        self.hidden_to_output_layer = nn.Linear(8,1)\n",
    "    \n",
    "    def forward(self, x):\n",
    "        hidden1 = self.input_to_hidden_layer(x)\n",
    "        hidden2 = self.hidden_layer_activation(hidden1)\n",
    "        output = self.hidden_to_output_layer(hidden2)\n",
    "        return output, hidden2\n",
    "\n",
    "# We can access the hidden layer values by indexing into second return value\n",
    "mynet_2 = MyNeuralNet2().to(device)\n",
    "print(mynet_2(X)[1]) # [0] is output, [1] is the hidden layer post-activation"
   ]
  }
 ],
 "metadata": {
  "kernelspec": {
   "display_name": "Python 3.10.4 64-bit",
   "language": "python",
   "name": "python3"
  },
  "language_info": {
   "codemirror_mode": {
    "name": "ipython",
    "version": 3
   },
   "file_extension": ".py",
   "mimetype": "text/x-python",
   "name": "python",
   "nbconvert_exporter": "python",
   "pygments_lexer": "ipython3",
   "version": "3.10.4"
  },
  "orig_nbformat": 4,
  "vscode": {
   "interpreter": {
    "hash": "b45196988e397c3f9973087e1b537003606a4f189ad9734f2bca00ff29e85777"
   }
  }
 },
 "nbformat": 4,
 "nbformat_minor": 2
}
